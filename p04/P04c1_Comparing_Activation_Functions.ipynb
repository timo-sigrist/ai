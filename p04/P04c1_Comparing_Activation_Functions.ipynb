{
 "cells": [
  {
   "cell_type": "code",
   "execution_count": 1,
   "id": "652c949a",
   "metadata": {},
   "outputs": [
    {
     "name": "stdout",
     "output_type": "stream",
     "text": [
      "Downloading http://yann.lecun.com/exdb/mnist/train-images-idx3-ubyte.gz\n",
      "Downloading http://yann.lecun.com/exdb/mnist/train-images-idx3-ubyte.gz to /Users/alisarupenyan/.pytorch/MNIST_data/MNIST/raw/train-images-idx3-ubyte.gz\n"
     ]
    },
    {
     "name": "stderr",
     "output_type": "stream",
     "text": [
      "100%|███████████████████████████| 9912422/9912422 [00:00<00:00, 22327996.14it/s]\n"
     ]
    },
    {
     "name": "stdout",
     "output_type": "stream",
     "text": [
      "Extracting /Users/alisarupenyan/.pytorch/MNIST_data/MNIST/raw/train-images-idx3-ubyte.gz to /Users/alisarupenyan/.pytorch/MNIST_data/MNIST/raw\n",
      "\n",
      "Downloading http://yann.lecun.com/exdb/mnist/train-labels-idx1-ubyte.gz\n",
      "Downloading http://yann.lecun.com/exdb/mnist/train-labels-idx1-ubyte.gz to /Users/alisarupenyan/.pytorch/MNIST_data/MNIST/raw/train-labels-idx1-ubyte.gz\n"
     ]
    },
    {
     "name": "stderr",
     "output_type": "stream",
     "text": [
      "100%|███████████████████████████████| 28881/28881 [00:00<00:00, 78253032.19it/s]\n"
     ]
    },
    {
     "name": "stdout",
     "output_type": "stream",
     "text": [
      "Extracting /Users/alisarupenyan/.pytorch/MNIST_data/MNIST/raw/train-labels-idx1-ubyte.gz to /Users/alisarupenyan/.pytorch/MNIST_data/MNIST/raw\n",
      "\n",
      "Downloading http://yann.lecun.com/exdb/mnist/t10k-images-idx3-ubyte.gz\n",
      "Downloading http://yann.lecun.com/exdb/mnist/t10k-images-idx3-ubyte.gz to /Users/alisarupenyan/.pytorch/MNIST_data/MNIST/raw/t10k-images-idx3-ubyte.gz\n"
     ]
    },
    {
     "name": "stderr",
     "output_type": "stream",
     "text": [
      "100%|███████████████████████████| 1648877/1648877 [00:00<00:00, 20185075.76it/s]\n"
     ]
    },
    {
     "name": "stdout",
     "output_type": "stream",
     "text": [
      "Extracting /Users/alisarupenyan/.pytorch/MNIST_data/MNIST/raw/t10k-images-idx3-ubyte.gz to /Users/alisarupenyan/.pytorch/MNIST_data/MNIST/raw\n",
      "\n",
      "Downloading http://yann.lecun.com/exdb/mnist/t10k-labels-idx1-ubyte.gz\n",
      "Downloading http://yann.lecun.com/exdb/mnist/t10k-labels-idx1-ubyte.gz to /Users/alisarupenyan/.pytorch/MNIST_data/MNIST/raw/t10k-labels-idx1-ubyte.gz\n"
     ]
    },
    {
     "name": "stderr",
     "output_type": "stream",
     "text": [
      "100%|██████████████████████████████████| 4542/4542 [00:00<00:00, 3412238.72it/s]\n"
     ]
    },
    {
     "name": "stdout",
     "output_type": "stream",
     "text": [
      "Extracting /Users/alisarupenyan/.pytorch/MNIST_data/MNIST/raw/t10k-labels-idx1-ubyte.gz to /Users/alisarupenyan/.pytorch/MNIST_data/MNIST/raw\n",
      "\n"
     ]
    }
   ],
   "source": [
    "import torch\n",
    "from torch import nn\n",
    "from torchvision import datasets, transforms\n",
    "from torch.utils.data import DataLoader\n",
    "\n",
    "# Define the network architecture\n",
    "class Net(nn.Module):\n",
    "    def __init__(self, activation):\n",
    "        super(Net, self).__init__()\n",
    "        self.fc1 = nn.Linear(28*28, 50)\n",
    "        self.fc2 = nn.Linear(50, 10)\n",
    "        if activation == 'relu':\n",
    "            self.activation = nn.ReLU()\n",
    "        elif activation == 'sigmoid':\n",
    "            self.activation = nn.Sigmoid()\n",
    "\n",
    "    def forward(self, x):\n",
    "        x = x.view(-1, 28*28)\n",
    "        x = self.activation(self.fc1(x))\n",
    "        x = self.fc2(x)\n",
    "        return x\n",
    "\n",
    "# Load the MNIST dataset\n",
    "transform = transforms.ToTensor()\n",
    "train_data = datasets.MNIST(root='~/.pytorch/MNIST_data/', train=True, transform=transform, download=True)\n",
    "train_loader = DataLoader(train_data, batch_size=64, shuffle=True)\n",
    "\n",
    "# Define the loss"
   ]
  },
  {
   "cell_type": "code",
   "execution_count": 2,
   "id": "fd0e2962",
   "metadata": {},
   "outputs": [
    {
     "name": "stdout",
     "output_type": "stream",
     "text": [
      "Epoch 1, Loss: 1.275695714297325\n",
      "Epoch 1, Loss: 2.1817967650224404\n",
      "Epoch 2, Loss: 0.5016677349424565\n",
      "Epoch 2, Loss: 1.74553717631521\n",
      "Epoch 3, Loss: 0.39599004216285655\n",
      "Epoch 3, Loss: 1.2590221718811532\n",
      "Epoch 4, Loss: 0.354133598728856\n",
      "Epoch 4, Loss: 0.9565394388587236\n",
      "Epoch 5, Loss: 0.32898430592183875\n",
      "Epoch 5, Loss: 0.7793668865649177\n",
      "Epoch 6, Loss: 0.31062791600569223\n",
      "Epoch 6, Loss: 0.6670107591444495\n",
      "Epoch 7, Loss: 0.29546704341861996\n",
      "Epoch 7, Loss: 0.5909519362678406\n",
      "Epoch 8, Loss: 0.28286160612061845\n",
      "Epoch 8, Loss: 0.5366010364693111\n",
      "Epoch 9, Loss: 0.2721461499455387\n",
      "Epoch 9, Loss: 0.49613129288784225\n",
      "Epoch 10, Loss: 0.26207339014611775\n",
      "Epoch 10, Loss: 0.4651315826406357\n"
     ]
    },
    {
     "data": {
      "text/plain": [
       "<function print>"
      ]
     },
     "execution_count": 2,
     "metadata": {},
     "output_type": "execute_result"
    }
   ],
   "source": [
    "# Define the loss\n",
    "criterion = nn.CrossEntropyLoss()\n",
    "\n",
    "# Create the networks\n",
    "net_relu = Net('relu')\n",
    "net_sigmoid = Net('sigmoid')\n",
    "\n",
    "# Define the optimizer\n",
    "optimizer_relu = torch.optim.SGD(net_relu.parameters(), lr=0.01)\n",
    "optimizer_sigmoid = torch.optim.SGD(net_sigmoid.parameters(), lr=0.01)\n",
    "\n",
    "# Train the networks\n",
    "for epoch in range(10):  # loop over the dataset multiple times\n",
    "    for nets, optimizers in [(net_relu, optimizer_relu), (net_sigmoid, optimizer_sigmoid)]:\n",
    "        running_loss = 0.0\n",
    "        for i, data in enumerate(train_loader, 0):\n",
    "            # get the inputs; data is a list of [inputs, labels]\n",
    "            inputs, labels = data\n",
    "\n",
    "            # zero the parameter gradients\n",
    "            optimizers.zero_grad()\n",
    "\n",
    "            # forward + backward + optimize\n",
    "            outputs = nets(inputs)\n",
    "            loss = criterion(outputs, labels)\n",
    "            loss.backward()\n",
    "            optimizers.step()\n",
    "\n",
    "            # print statistics\n",
    "            running_loss += loss.item()\n",
    "        print(f'Epoch {epoch+1}, Loss: {running_loss/len(train_loader)}')\n",
    "\n",
    "print('Finished Training')\n",
    "\n"
   ]
  },
  {
   "cell_type": "code",
   "execution_count": null,
   "id": "b29ccc2b",
   "metadata": {},
   "outputs": [],
   "source": [
    "# Now let's evaluate the performance of the two models\n",
    "test_data = datasets.MNIST(root='~/.pytorch/MNIST_data/', train=False, transform=transform, download=True)\n",
    "test_loader = DataLoader(test_data, batch_size=64, shuffle=True)\n",
    "\n",
    "correct_relu = 0\n",
    "total_relu = 0\n",
    "correct_sigmoid = 0\n",
    "total_sigmoid = 0\n",
    "\n",
    "with torch.no_grad():\n",
    "    for data in test_loader:\n",
    "        images, labels = data\n",
    "        \n",
    "        # Evaluate ReLU network\n",
    "        outputs = net_relu(images)\n",
    "        _, predicted = torch.max(outputs.data, 1)\n",
    "        total_relu += labels.size(0)\n",
    "        correct_relu += (predicted == labels).sum().item()\n",
    "        \n",
    "        # Evaluate Sigmoid network\n",
    "        outputs = net_sigmoid(images)\n",
    "        _, predicted = torch.max(outputs.data, 1)\n",
    "        total_sigmoid += labels.size(0)\n",
    "        correct_sigmoid += (predicted == labels).sum().item()\n",
    "\n",
    "print('Accuracy of the network with ReLU on the 10000 test images: %d %%' % (100 * correct_relu / total_relu))\n",
    "print('Accuracy of the network"
   ]
  }
 ],
 "metadata": {
  "kernelspec": {
   "display_name": "Python 3 (ipykernel)",
   "language": "python",
   "name": "python3"
  },
  "language_info": {
   "codemirror_mode": {
    "name": "ipython",
    "version": 3
   },
   "file_extension": ".py",
   "mimetype": "text/x-python",
   "name": "python",
   "nbconvert_exporter": "python",
   "pygments_lexer": "ipython3",
   "version": "3.10.9"
  }
 },
 "nbformat": 4,
 "nbformat_minor": 5
}
